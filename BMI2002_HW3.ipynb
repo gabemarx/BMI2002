{
 "cells": [
  {
   "cell_type": "code",
   "execution_count": 149,
   "metadata": {},
   "outputs": [],
   "source": [
    "inputDNA = ['ATGGAACAAGAATGA',\n",
    "       'ATGATTTAAATGATCTAAATGATTTAA',\n",
    "       'CATATGATTATTTAAATCATGATTATTTAGGATATGGATATTTAGATT',\n",
    "       'ATGATTATGTAA',\n",
    "       'ATTATGTAA',\n",
    "       'ATGCGTCGT']"
   ]
  },
  {
   "cell_type": "code",
   "execution_count": 150,
   "metadata": {},
   "outputs": [],
   "source": [
    "def codonize(DNA):\n",
    "    return [DNA[idx : idx + 3] for idx in range(0, len(DNA), 3)]"
   ]
  },
  {
   "cell_type": "code",
   "execution_count": 151,
   "metadata": {},
   "outputs": [],
   "source": [
    "def translate(codons):\n",
    "    codon_dict = {\n",
    "        'ATA':'I', 'ATC':'I', 'ATT':'I', 'ATG':'M',\n",
    "        'ACA':'T', 'ACC':'T', 'ACG':'T', 'ACT':'T',\n",
    "        'AAC':'N', 'AAT':'N', 'AAA':'K', 'AAG':'K',\n",
    "        'AGC':'S', 'AGT':'S', 'AGA':'R', 'AGG':'R',\n",
    "        'CTA':'L', 'CTC':'L', 'CTG':'L', 'CTT':'L',\n",
    "        'CCA':'P', 'CCC':'P', 'CCG':'P', 'CCT':'P',\n",
    "        'CAC':'H', 'CAT':'H', 'CAA':'Q', 'CAG':'Q',\n",
    "        'CGA':'R', 'CGC':'R', 'CGG':'R', 'CGT':'R',\n",
    "        'GTA':'V', 'GTC':'V', 'GTG':'V', 'GTT':'V',\n",
    "        'GCA':'A', 'GCC':'A', 'GCG':'A', 'GCT':'A',\n",
    "        'GAC':'D', 'GAT':'D', 'GAA':'E', 'GAG':'E',\n",
    "        'GGA':'G', 'GGC':'G', 'GGG':'G', 'GGT':'G',\n",
    "        'TCA':'S', 'TCC':'S', 'TCG':'S', 'TCT':'S',\n",
    "        'TTC':'F', 'TTT':'F', 'TTA':'L', 'TTG':'L',\n",
    "        'TAC':'Y', 'TAT':'Y', 'TAA':'STOP', 'TAG':'STOP',\n",
    "        'TGC':'C', 'TGT':'C', 'TGA':'STOP', 'TGG':'W'}\n",
    "    AA = []\n",
    "    for c in codons:\n",
    "        if len(c) != 3:\n",
    "            break\n",
    "        if c not in codon_dict.keys():\n",
    "            raise Exception(f\"codon {c} has no associated amino acid\")\n",
    "        AA.append(codon_dict[c])\n",
    "    return AA"
   ]
  },
  {
   "cell_type": "code",
   "execution_count": 152,
   "metadata": {},
   "outputs": [],
   "source": [
    "def process_AA(in_AA):\n",
    "    AA = in_AA.copy()\n",
    "    protein_list = []\n",
    "    n_failures = 0\n",
    "    n_AA = len(AA)\n",
    "    while len(AA) > 0:\n",
    "        if 'M' not in AA:\n",
    "            n_failures += 1\n",
    "#             print('No start codon')\n",
    "            break\n",
    "        start_idx = AA.index('M')\n",
    "        \n",
    "        if 'STOP' not in AA[start_idx:]:\n",
    "            n_failures += 1\n",
    "#             print('No remaining stop codons')\n",
    "            break        \n",
    "        stop_idx  = AA[start_idx:].index('STOP') + start_idx\n",
    "        \n",
    "        \n",
    "        if start_idx + 1 == stop_idx:\n",
    "            n_failures += 1\n",
    "#             print(\"Empty protein!\")\n",
    "            AA[start_idx:stop_idx+1]=[]\n",
    "            continue\n",
    "        protein = AA[start_idx + 1: stop_idx]\n",
    "        protein_list.append(protein)\n",
    "        AA[start_idx:stop_idx+1]=[]\n",
    "        \n",
    "    return protein_list, n_failures, AA"
   ]
  },
  {
   "cell_type": "code",
   "execution_count": 153,
   "metadata": {},
   "outputs": [],
   "source": [
    "def process_DNA(DNA):\n",
    "    \n",
    "    aberrant = [i for i in DNA if i not in 'CGTA']\n",
    "    if len(aberrant) > 0:\n",
    "        raise Exception(f\"Provided DNA contains uncognized nucleotides: {aberrant}\")\n",
    "        \n",
    "    codons = codonize(DNA)\n",
    "    AA = translate(codons)\n",
    "    protein_list, n_failures, non_coding = process_AA(AA)\n",
    "    n_noncoding_nuc = 3 * len(non_coding) + len(DNA) % 3\n",
    "    return protein_list, n_failures, non_coding, n_noncoding_nuc"
   ]
  },
  {
   "cell_type": "code",
   "execution_count": 160,
   "metadata": {},
   "outputs": [],
   "source": [
    "from statistics import mean \n",
    "\n",
    "def analyze_DNA(DNA):\n",
    "    protein_list, n_failures, non_coding, n_noncoding_nuc = process_DNA(DNA)\n",
    "    protein_lengths = [len(i) for i in protein_list]\n",
    "    if len(protein_lengths) == 0:\n",
    "        print(\"There are no proteins encoded in this sequence.\")\n",
    "        print(f\"Number of DNA failures: {n_failures}\")\n",
    "        print(f\"Number of non-coding nucleotides: {n_noncoding_nuc} \")\n",
    "        print('\\n')\n",
    "        return \n",
    "    print(f\"The number of encoded proteins is {len(protein_list)}\")\n",
    "    print(f\"The shortest protein is {min(protein_lengths)} amino acid's long.\")\n",
    "    print(f\"The longest protein is {max(protein_lengths)} amino acid's long.\")\n",
    "    print(f\"The average protein length is {mean(protein_lengths)} amino acid's long.\")\n",
    "    print(f\"Number of DNA failures: {n_failures}\")\n",
    "    print(f\"Number of non-coding nucleotides: {n_noncoding_nuc} \")\n",
    "    print('\\n')\n",
    "    return"
   ]
  },
  {
   "cell_type": "code",
   "execution_count": 161,
   "metadata": {},
   "outputs": [
    {
     "name": "stdout",
     "output_type": "stream",
     "text": [
      "The number of encoded proteins is 1\n",
      "The shortest protein is 3 amino acid's long.\n",
      "The longest protein is 3 amino acid's long.\n",
      "The average protein length is 3 amino acid's long.\n",
      "Number of DNA failures: 0\n",
      "Number of non-coding nucleotides: 0 \n",
      "\n",
      "\n",
      "The number of encoded proteins is 3\n",
      "The shortest protein is 1 amino acid's long.\n",
      "The longest protein is 1 amino acid's long.\n",
      "The average protein length is 1 amino acid's long.\n",
      "Number of DNA failures: 0\n",
      "Number of non-coding nucleotides: 0 \n",
      "\n",
      "\n",
      "The number of encoded proteins is 3\n",
      "The shortest protein is 2 amino acid's long.\n",
      "The longest protein is 2 amino acid's long.\n",
      "The average protein length is 2 amino acid's long.\n",
      "Number of DNA failures: 1\n",
      "Number of non-coding nucleotides: 12 \n",
      "\n",
      "\n",
      "The number of encoded proteins is 1\n",
      "The shortest protein is 2 amino acid's long.\n",
      "The longest protein is 2 amino acid's long.\n",
      "The average protein length is 2 amino acid's long.\n",
      "Number of DNA failures: 0\n",
      "Number of non-coding nucleotides: 0 \n",
      "\n",
      "\n",
      "There are no proteins encoded in this sequence.\n",
      "Number of DNA failures: 2\n",
      "Number of non-coding nucleotides: 3 \n",
      "\n",
      "\n",
      "There are no proteins encoded in this sequence.\n",
      "Number of DNA failures: 1\n",
      "Number of non-coding nucleotides: 9 \n",
      "\n",
      "\n"
     ]
    }
   ],
   "source": [
    "for DNA in inputDNA:\n",
    "    analyze_DNA(DNA)"
   ]
  },
  {
   "cell_type": "code",
   "execution_count": 155,
   "metadata": {},
   "outputs": [],
   "source": [
    "## FUNCTIONS FOR GENERATING TESTS\n",
    "import random\n",
    "import string\n",
    "\n",
    "def randDNA(length):\n",
    "    return ''.join(random.choice('CGTA') for _ in range(length))\n",
    "def randLetters(length):\n",
    "    return \"\".join(random.choice(string.ascii_letters) for _ in range(length)).upper()\n"
   ]
  },
  {
   "cell_type": "code",
   "execution_count": 166,
   "metadata": {},
   "outputs": [
    {
     "name": "stdout",
     "output_type": "stream",
     "text": [
      "The number of encoded proteins is 366\n",
      "The shortest protein is 1 amino acid's long.\n",
      "The longest protein is 144 amino acid's long.\n",
      "The average protein length is 20.994535519125684 amino acid's long.\n",
      "Number of DNA failures: 16\n",
      "Number of non-coding nucleotides: 74662 \n",
      "\n",
      "\n"
     ]
    },
    {
     "ename": "Exception",
     "evalue": "Provided DNA contains uncognized nucleotides: ['F', 'P', 'B', 'P']",
     "output_type": "error",
     "traceback": [
      "\u001b[0;31m---------------------------------------------------------------------------\u001b[0m",
      "\u001b[0;31mException\u001b[0m                                 Traceback (most recent call last)",
      "\u001b[0;32m<ipython-input-166-bff1634e845c>\u001b[0m in \u001b[0;36m<module>\u001b[0;34m\u001b[0m\n\u001b[1;32m      9\u001b[0m \u001b[0manalyze_DNA\u001b[0m\u001b[0;34m(\u001b[0m\u001b[0mrandDNA\u001b[0m\u001b[0;34m(\u001b[0m\u001b[0;36m100000\u001b[0m\u001b[0;34m)\u001b[0m\u001b[0;34m)\u001b[0m\u001b[0;34m\u001b[0m\u001b[0;34m\u001b[0m\u001b[0m\n\u001b[1;32m     10\u001b[0m \u001b[0;34m\u001b[0m\u001b[0m\n\u001b[0;32m---> 11\u001b[0;31m \u001b[0mprocess_DNA\u001b[0m\u001b[0;34m(\u001b[0m\u001b[0mrandLetters\u001b[0m\u001b[0;34m(\u001b[0m\u001b[0;36m5\u001b[0m\u001b[0;34m)\u001b[0m\u001b[0;34m)\u001b[0m\u001b[0;34m\u001b[0m\u001b[0;34m\u001b[0m\u001b[0m\n\u001b[0m",
      "\u001b[0;32m<ipython-input-153-cf6c04a94868>\u001b[0m in \u001b[0;36mprocess_DNA\u001b[0;34m(DNA)\u001b[0m\n\u001b[1;32m      3\u001b[0m     \u001b[0maberrant\u001b[0m \u001b[0;34m=\u001b[0m \u001b[0;34m[\u001b[0m\u001b[0mi\u001b[0m \u001b[0;32mfor\u001b[0m \u001b[0mi\u001b[0m \u001b[0;32min\u001b[0m \u001b[0mDNA\u001b[0m \u001b[0;32mif\u001b[0m \u001b[0mi\u001b[0m \u001b[0;32mnot\u001b[0m \u001b[0;32min\u001b[0m \u001b[0;34m'CGTA'\u001b[0m\u001b[0;34m]\u001b[0m\u001b[0;34m\u001b[0m\u001b[0;34m\u001b[0m\u001b[0m\n\u001b[1;32m      4\u001b[0m     \u001b[0;32mif\u001b[0m \u001b[0mlen\u001b[0m\u001b[0;34m(\u001b[0m\u001b[0maberrant\u001b[0m\u001b[0;34m)\u001b[0m \u001b[0;34m>\u001b[0m \u001b[0;36m0\u001b[0m\u001b[0;34m:\u001b[0m\u001b[0;34m\u001b[0m\u001b[0;34m\u001b[0m\u001b[0m\n\u001b[0;32m----> 5\u001b[0;31m         \u001b[0;32mraise\u001b[0m \u001b[0mException\u001b[0m\u001b[0;34m(\u001b[0m\u001b[0;34mf\"Provided DNA contains uncognized nucleotides: {aberrant}\"\u001b[0m\u001b[0;34m)\u001b[0m\u001b[0;34m\u001b[0m\u001b[0;34m\u001b[0m\u001b[0m\n\u001b[0m\u001b[1;32m      6\u001b[0m \u001b[0;34m\u001b[0m\u001b[0m\n\u001b[1;32m      7\u001b[0m     \u001b[0mcodons\u001b[0m \u001b[0;34m=\u001b[0m \u001b[0mcodonize\u001b[0m\u001b[0;34m(\u001b[0m\u001b[0mDNA\u001b[0m\u001b[0;34m)\u001b[0m\u001b[0;34m\u001b[0m\u001b[0;34m\u001b[0m\u001b[0m\n",
      "\u001b[0;31mException\u001b[0m: Provided DNA contains uncognized nucleotides: ['F', 'P', 'B', 'P']"
     ]
    }
   ],
   "source": [
    "## TESTS\n",
    "process_AA(['STOP','M'])\n",
    "process_AA(['A','A','A'])\n",
    "process_AA(['M','STOP'])\n",
    "process_AA(['STOP'])\n",
    "process_AA(['M'])\n",
    "process_AA([''])\n",
    "\n",
    "analyze_DNA(randDNA(100000))\n",
    "\n",
    "process_DNA(randLetters(5))\n"
   ]
  },
  {
   "cell_type": "raw",
   "metadata": {},
   "source": []
  },
  {
   "cell_type": "code",
   "execution_count": null,
   "metadata": {},
   "outputs": [],
   "source": []
  }
 ],
 "metadata": {
  "kernelspec": {
   "display_name": "Python 3",
   "language": "python",
   "name": "python3"
  },
  "language_info": {
   "codemirror_mode": {
    "name": "ipython",
    "version": 3
   },
   "file_extension": ".py",
   "mimetype": "text/x-python",
   "name": "python",
   "nbconvert_exporter": "python",
   "pygments_lexer": "ipython3",
   "version": "3.8.5"
  }
 },
 "nbformat": 4,
 "nbformat_minor": 4
}
