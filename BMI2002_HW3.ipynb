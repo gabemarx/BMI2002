{
 "cells": [
  {
   "cell_type": "code",
   "execution_count": 1,
   "metadata": {},
   "outputs": [],
   "source": [
    "# PLACE YOUR INPUT MINI-CHROMOSOMES IN THIS LIST \n",
    "inputDNA = ['ATGGAACAAGAATGA',\n",
    "       'ATGATTTAAATGATCTAAATGATTTAA',\n",
    "       'CATATGATTATTTAAATCATGATTATTTAGGATATGGATATTTAGATT',\n",
    "       'ATGATTATGTAA',\n",
    "       'ATTATGTAA',\n",
    "       'ATGCGTCGT']"
   ]
  },
  {
   "cell_type": "markdown",
   "metadata": {},
   "source": [
    "The analyze_DNA function at the bottom of this page ties all of the functions in this code together. It takes a mini-chromosome as its input and will print out the required output of this code. \n",
    "\n",
    "Underneath the production cells, there are multiple testing cells. "
   ]
  },
  {
   "cell_type": "code",
   "execution_count": 2,
   "metadata": {},
   "outputs": [],
   "source": [
    "def codonize(DNA): \n",
    "# minifunction that takes nucleotide sequence and groups into threes\n",
    "    return [DNA[idx : idx + 3] for idx in range(0, len(DNA), 3)]"
   ]
  },
  {
   "cell_type": "code",
   "execution_count": 3,
   "metadata": {},
   "outputs": [],
   "source": [
    "def translate(codons): \n",
    "#translates a list of codons into AA sequence\n",
    "    codon_dict = {\n",
    "        'ATA':'I', 'ATC':'I', 'ATT':'I', 'ATG':'M',\n",
    "        'ACA':'T', 'ACC':'T', 'ACG':'T', 'ACT':'T',\n",
    "        'AAC':'N', 'AAT':'N', 'AAA':'K', 'AAG':'K',\n",
    "        'AGC':'S', 'AGT':'S', 'AGA':'R', 'AGG':'R',\n",
    "        'CTA':'L', 'CTC':'L', 'CTG':'L', 'CTT':'L',\n",
    "        'CCA':'P', 'CCC':'P', 'CCG':'P', 'CCT':'P',\n",
    "        'CAC':'H', 'CAT':'H', 'CAA':'Q', 'CAG':'Q',\n",
    "        'CGA':'R', 'CGC':'R', 'CGG':'R', 'CGT':'R',\n",
    "        'GTA':'V', 'GTC':'V', 'GTG':'V', 'GTT':'V',\n",
    "        'GCA':'A', 'GCC':'A', 'GCG':'A', 'GCT':'A',\n",
    "        'GAC':'D', 'GAT':'D', 'GAA':'E', 'GAG':'E',\n",
    "        'GGA':'G', 'GGC':'G', 'GGG':'G', 'GGT':'G',\n",
    "        'TCA':'S', 'TCC':'S', 'TCG':'S', 'TCT':'S',\n",
    "        'TTC':'F', 'TTT':'F', 'TTA':'L', 'TTG':'L',\n",
    "        'TAC':'Y', 'TAT':'Y', 'TAA':'STOP', 'TAG':'STOP',\n",
    "        'TGC':'C', 'TGT':'C', 'TGA':'STOP', 'TGG':'W'}\n",
    "    AA = []\n",
    "    for c in codons:\n",
    "        if len(c) != 3: #Handles cases where number of nucleotides is not divisable by 3\n",
    "            break\n",
    "        if c not in codon_dict.keys():\n",
    "            raise Exception(f\"codon {c} has no associated amino acid\")\n",
    "        AA.append(codon_dict[c])\n",
    "    return AA"
   ]
  },
  {
   "cell_type": "code",
   "execution_count": 4,
   "metadata": {},
   "outputs": [],
   "source": [
    "def find_nuc_idx(protein_list): \n",
    "# tool to tell you the index of the first nucleotide in your protein so we\n",
    "# can keep track of which nucleotides are dedicated to what proteins\n",
    "    position = 0\n",
    "    for protein in protein_list:\n",
    "        position += (len(protein) * 3) + 6 #three nucleotides for each AA plus 6 for start and stop\n",
    "    return position\n",
    "\n",
    "def process_AA(in_AA):\n",
    "# Takes a sequence of AA's and pulls out the proteins and logs the DNA failures\n",
    "# Four major features:\n",
    "# 1. Extract protein sequence\n",
    "# 2. Logs DNA failures\n",
    "# 3. Keeps running ledger of which nucleotides are coding\n",
    "# 4. Finds fragment proteins (cases where there is an M in the middle of the protein)\n",
    "\n",
    "    AA = in_AA.copy()\n",
    "    protein_list = []\n",
    "    n_failures = 0\n",
    "    coding_nucleotides = []\n",
    "    \n",
    "    if 'M' not in AA and 'STOP' not in AA: # Handle cases where there are neither START or STOP in sequence\n",
    "        n_failures = 2\n",
    "        return protein_list, n_failures, coding_nucleotides\n",
    "    \n",
    "    \n",
    "    while len(AA) > 0: #Run until there are no more AA's\n",
    "        if 'M' not in AA: # no more start codons\n",
    "            n_failures += 1\n",
    "            break #Stop\n",
    "        start_idx = AA.index('M')\n",
    "        \n",
    "        if 'STOP' not in AA[start_idx:]: # no more stop codons \n",
    "            n_failures += 1\n",
    "            break #Stop       \n",
    "        stop_idx  = AA[start_idx:].index('STOP') + start_idx\n",
    "        \n",
    "        \n",
    "        if start_idx + 1 == stop_idx: # adjacent start and stop codons \n",
    "            n_failures += 1\n",
    "            AA[start_idx:stop_idx+1]=[] # remove offending amino acids\n",
    "            continue\n",
    "        \n",
    "        \n",
    "        position = find_nuc_idx(protein_list) + (6 * n_failures) # let's us know nucleotide position despite the fact we have been removing AA's from our running list. also using failures to account for changes in position due to removed adjacent M+STOP's\n",
    "        first_nuc = position + start_idx * 3 # nucleotide position of first nucleotide in START codon coding this protein\n",
    "        last_nuc = position + (stop_idx + 1) * 3 # nucleotide position of first \n",
    "        coding_nucleotides.extend(list(range(first_nuc,last_nuc)))\n",
    "        \n",
    "        protein = AA[start_idx + 1: stop_idx] #logs protein as AA's between the start and the stop AA\n",
    "        protein_list.append(protein) #adds protein to running list of proteins\n",
    "        AA[start_idx:stop_idx+1]=[] #remove the protein from our running list of AA \n",
    "    \n",
    "    # account for cases of M in the middle of a protein which you could count for the start of a new protein\n",
    "    for protein in protein_list:\n",
    "        if 'M' in protein:\n",
    "            fragment = protein[protein.index('M')+1:]\n",
    "            if len(fragment) == 0: # Indicates adjacent M and STOP amino acid\n",
    "                n_failures += 1\n",
    "            else: # add the fragment to protein list\n",
    "                protein_list.append(fragment)\n",
    "        \n",
    "    return protein_list, n_failures, coding_nucleotides"
   ]
  },
  {
   "cell_type": "code",
   "execution_count": 5,
   "metadata": {},
   "outputs": [],
   "source": [
    "def process_DNA(DNA):\n",
    "#This function ties together the processing steps:\n",
    "# 1. \"Codonize\" the nucleotides \n",
    "# 2. Translates codons\n",
    "# 3. Extracts protein features, n DNA failures, and coding nucleotides from AA sequence\n",
    "# Additionally this function makes sure all nucleotides are recognizable\n",
    "\n",
    "    aberrant = [i for i in DNA if i not in 'CGTA'] #finds unrecognized nucleotides \n",
    "    if len(aberrant) > 0:\n",
    "        raise Exception(f\"Provided DNA contains uncognized nucleotides: {aberrant}\")\n",
    "    \n",
    "    codons = codonize(DNA)\n",
    "    AA = translate(codons)\n",
    "    protein_list, n_failures, coding_nucleotides = process_AA(AA)\n",
    "    return protein_list, n_failures, coding_nucleotides"
   ]
  },
  {
   "cell_type": "code",
   "execution_count": 6,
   "metadata": {},
   "outputs": [],
   "source": [
    "from statistics import mean \n",
    "\n",
    "def analyze_DNA(DNA):\n",
    "    \n",
    "    protein_list     = []\n",
    "    n_failures       = 0\n",
    "    n_noncoding_nuc  = 0\n",
    "    coding_nuc       = []\n",
    "    \n",
    "    for frame in range(3):#run three times, one for each reading frame\n",
    "        \n",
    "        proteinlist, nfailures, codingnuc = process_DNA(DNA[frame:]) #begin reading at different frames for each loop\n",
    "        protein_list.extend(proteinlist) #running list of proteins across all reading frames \n",
    "        n_failures += nfailures # running tally of DNA failures \n",
    "        coding_nuc.extend([i + frame for i in codingnuc]) #running list of all of the nucleotides which contributed to proteins across each reading frame\n",
    "        \n",
    "\n",
    "    \n",
    "    coding_nucleotides = set(coding_nuc) # all of the unique nucleotides which contributed to protein\n",
    "    n_noncoding_nuc = len(DNA) - len(coding_nucleotides) # if A:S, then |A'|= |S| - |A| \n",
    "    \n",
    "    protein_lengths = [len(i) for i in protein_list]\n",
    "    if len(protein_lengths) == 0:\n",
    "        print(\"There are no proteins encoded in this sequence.\")\n",
    "        print(f\"Number of DNA failures: {n_failures}\")\n",
    "        print(f\"Number of non-coding nucleotides: {n_noncoding_nuc} \")\n",
    "        print('\\n')\n",
    "        return \n",
    "    print(f\"The number of encoded proteins is {len(protein_list)}\")\n",
    "    print(f\"The shortest protein is {min(protein_lengths)} amino acids long.\")\n",
    "    print(f\"The longest protein is {max(protein_lengths)} amino acids long.\")\n",
    "    print(f\"The average protein length is {int(mean(protein_lengths))} amino acids long.\")\n",
    "    print(f\"Number of DNA failures: {n_failures}\")\n",
    "    print(f\"Number of non-coding nucleotides: {n_noncoding_nuc} \")\n",
    "    print('\\n')\n",
    "    return"
   ]
  },
  {
   "cell_type": "code",
   "execution_count": 7,
   "metadata": {},
   "outputs": [
    {
     "name": "stdout",
     "output_type": "stream",
     "text": [
      "['M', 'E', 'Q', 'E', 'STOP']\n",
      "The number of encoded proteins is 1\n",
      "The shortest protein is 3 amino acids long.\n",
      "The longest protein is 3 amino acids long.\n",
      "The average protein length is 3 amino acid's long.\n",
      "Number of DNA failures: 3\n",
      "Number of non-coding nucleotides: 0 \n",
      "\n",
      "\n",
      "['M', 'I', 'STOP', 'M', 'I', 'STOP', 'M', 'I', 'STOP']\n",
      "The number of encoded proteins is 3\n",
      "The shortest protein is 1 amino acids long.\n",
      "The longest protein is 1 amino acids long.\n",
      "The average protein length is 1 amino acid's long.\n",
      "Number of DNA failures: 3\n",
      "Number of non-coding nucleotides: 0 \n",
      "\n",
      "\n",
      "['H', 'M', 'I', 'I', 'STOP', 'I', 'M', 'I', 'I', 'STOP', 'D', 'M', 'D', 'I', 'STOP', 'I']\n",
      "The number of encoded proteins is 3\n",
      "The shortest protein is 2 amino acids long.\n",
      "The longest protein is 2 amino acids long.\n",
      "The average protein length is 2 amino acid's long.\n",
      "Number of DNA failures: 4\n",
      "Number of non-coding nucleotides: 12 \n",
      "\n",
      "\n",
      "['M', 'I', 'M', 'STOP']\n",
      "The number of encoded proteins is 1\n",
      "The shortest protein is 2 amino acids long.\n",
      "The longest protein is 2 amino acids long.\n",
      "The average protein length is 2 amino acid's long.\n",
      "Number of DNA failures: 4\n",
      "Number of non-coding nucleotides: 0 \n",
      "\n",
      "\n",
      "['I', 'M', 'STOP']\n",
      "There are no proteins encoded in this sequence.\n",
      "Number of DNA failures: 6\n",
      "Number of non-coding nucleotides: 9 \n",
      "\n",
      "\n",
      "['M', 'R', 'R']\n",
      "There are no proteins encoded in this sequence.\n",
      "Number of DNA failures: 5\n",
      "Number of non-coding nucleotides: 9 \n",
      "\n",
      "\n"
     ]
    }
   ],
   "source": [
    "for DNA in inputDNA:\n",
    "    codon = codonize(DNA)\n",
    "    AA = translate(codon)\n",
    "    print(AA)\n",
    "    analyze_DNA(DNA)\n"
   ]
  },
  {
   "cell_type": "code",
   "execution_count": 8,
   "metadata": {},
   "outputs": [],
   "source": [
    "## FUNCTIONS FOR GENERATING TESTS\n",
    "import random\n",
    "import string\n",
    "\n",
    "def randDNA(length): #Produce random string of nucleotides of desired length\n",
    "    return ''.join(random.choice('CGTA') for _ in range(length))\n",
    "def randLetters(length): #Produce random string of letters of desired length\n",
    "    return \"\".join(random.choice(string.ascii_letters) for _ in range(length)).upper()\n"
   ]
  },
  {
   "cell_type": "code",
   "execution_count": 9,
   "metadata": {},
   "outputs": [
    {
     "name": "stdout",
     "output_type": "stream",
     "text": [
      "([], 1, [])\n",
      "([], 2, [])\n",
      "([], 1, [])\n",
      "([], 1, [])\n",
      "([], 1, [])\n",
      "([], 2, [])\n",
      "([['M', 'A'], ['A']], 0, [0, 1, 2, 3, 4, 5, 6, 7, 8, 9, 10, 11])\n",
      "([['M']], 1, [0, 1, 2, 3, 4, 5, 6, 7, 8])\n",
      "([['M', 'M'], ['M']], 1, [0, 1, 2, 3, 4, 5, 6, 7, 8, 9, 10, 11])\n",
      "([['A', 'M', 'M'], ['M']], 1, [0, 1, 2, 3, 4, 5, 6, 7, 8, 9, 10, 11, 12, 13, 14])\n"
     ]
    }
   ],
   "source": [
    "## TESTS\n",
    "print(process_AA(['STOP','M']))\n",
    "print(process_AA(['A','A','A']))\n",
    "print(process_AA(['M','STOP']))\n",
    "print(process_AA(['STOP']))\n",
    "print(process_AA(['M']))\n",
    "print(process_AA(['']))\n",
    "print(process_AA(['M','M','A','STOP']))\n",
    "print(process_AA(['M','M','STOP']))\n",
    "print(process_AA(['M','M','M','STOP']))\n",
    "print(process_AA(['M','A','M','M','STOP']))\n",
    "# series of tests on process_AA function to make sure it can handle difficult AA sequences "
   ]
  },
  {
   "cell_type": "code",
   "execution_count": 10,
   "metadata": {},
   "outputs": [
    {
     "name": "stdout",
     "output_type": "stream",
     "text": [
      "The number of encoded proteins is 7386\n",
      "The shortest protein is 1 amino acids long.\n",
      "The longest protein is 200 amino acids long.\n",
      "The average protein length is 21 amino acid's long.\n",
      "Number of DNA failures: 384\n",
      "Number of non-coding nucleotides: 195718 \n",
      "\n",
      "\n"
     ]
    }
   ],
   "source": [
    "analyze_DNA(randDNA(500000)) #Handle arbitrarly long random nucleotide patterns \n",
    "# crucial test in finding bugs I was not aware I had!!"
   ]
  },
  {
   "cell_type": "code",
   "execution_count": 11,
   "metadata": {},
   "outputs": [
    {
     "ename": "Exception",
     "evalue": "Provided DNA contains uncognized nucleotides: ['E', 'Q', 'S', 'M', 'D']",
     "output_type": "error",
     "traceback": [
      "\u001b[0;31m---------------------------------------------------------------------------\u001b[0m",
      "\u001b[0;31mException\u001b[0m                                 Traceback (most recent call last)",
      "\u001b[0;32m<ipython-input-11-3b9899262fbf>\u001b[0m in \u001b[0;36m<module>\u001b[0;34m\u001b[0m\n\u001b[0;32m----> 1\u001b[0;31m \u001b[0mprocess_DNA\u001b[0m\u001b[0;34m(\u001b[0m\u001b[0mrandLetters\u001b[0m\u001b[0;34m(\u001b[0m\u001b[0;36m5\u001b[0m\u001b[0;34m)\u001b[0m\u001b[0;34m)\u001b[0m \u001b[0;31m#Handle cases where random letters are provided instead of nucleotides\u001b[0m\u001b[0;34m\u001b[0m\u001b[0;34m\u001b[0m\u001b[0m\n\u001b[0m",
      "\u001b[0;32m<ipython-input-5-421909fe3a75>\u001b[0m in \u001b[0;36mprocess_DNA\u001b[0;34m(DNA)\u001b[0m\n\u001b[1;32m      8\u001b[0m     \u001b[0maberrant\u001b[0m \u001b[0;34m=\u001b[0m \u001b[0;34m[\u001b[0m\u001b[0mi\u001b[0m \u001b[0;32mfor\u001b[0m \u001b[0mi\u001b[0m \u001b[0;32min\u001b[0m \u001b[0mDNA\u001b[0m \u001b[0;32mif\u001b[0m \u001b[0mi\u001b[0m \u001b[0;32mnot\u001b[0m \u001b[0;32min\u001b[0m \u001b[0;34m'CGTA'\u001b[0m\u001b[0;34m]\u001b[0m \u001b[0;31m#finds unrecognized nucleotides\u001b[0m\u001b[0;34m\u001b[0m\u001b[0;34m\u001b[0m\u001b[0m\n\u001b[1;32m      9\u001b[0m     \u001b[0;32mif\u001b[0m \u001b[0mlen\u001b[0m\u001b[0;34m(\u001b[0m\u001b[0maberrant\u001b[0m\u001b[0;34m)\u001b[0m \u001b[0;34m>\u001b[0m \u001b[0;36m0\u001b[0m\u001b[0;34m:\u001b[0m\u001b[0;34m\u001b[0m\u001b[0;34m\u001b[0m\u001b[0m\n\u001b[0;32m---> 10\u001b[0;31m         \u001b[0;32mraise\u001b[0m \u001b[0mException\u001b[0m\u001b[0;34m(\u001b[0m\u001b[0;34mf\"Provided DNA contains uncognized nucleotides: {aberrant}\"\u001b[0m\u001b[0;34m)\u001b[0m\u001b[0;34m\u001b[0m\u001b[0;34m\u001b[0m\u001b[0m\n\u001b[0m\u001b[1;32m     11\u001b[0m \u001b[0;34m\u001b[0m\u001b[0m\n\u001b[1;32m     12\u001b[0m     \u001b[0mcodons\u001b[0m \u001b[0;34m=\u001b[0m \u001b[0mcodonize\u001b[0m\u001b[0;34m(\u001b[0m\u001b[0mDNA\u001b[0m\u001b[0;34m)\u001b[0m\u001b[0;34m\u001b[0m\u001b[0;34m\u001b[0m\u001b[0m\n",
      "\u001b[0;31mException\u001b[0m: Provided DNA contains uncognized nucleotides: ['E', 'Q', 'S', 'M', 'D']"
     ]
    }
   ],
   "source": [
    "process_DNA(randLetters(5)) #Handle cases where random letters are provided instead of nucleotides "
   ]
  },
  {
   "cell_type": "code",
   "execution_count": null,
   "metadata": {},
   "outputs": [],
   "source": []
  }
 ],
 "metadata": {
  "kernelspec": {
   "display_name": "Python 3",
   "language": "python",
   "name": "python3"
  },
  "language_info": {
   "codemirror_mode": {
    "name": "ipython",
    "version": 3
   },
   "file_extension": ".py",
   "mimetype": "text/x-python",
   "name": "python",
   "nbconvert_exporter": "python",
   "pygments_lexer": "ipython3",
   "version": "3.8.5"
  }
 },
 "nbformat": 4,
 "nbformat_minor": 4
}
